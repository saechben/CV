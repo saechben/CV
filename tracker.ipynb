{
 "cells": [
  {
   "cell_type": "code",
   "execution_count": 1,
   "metadata": {},
   "outputs": [],
   "source": [
    "import os\n",
    "import numpy as np\n",
    "import cv2\n",
    "import mediapipe as mp\n",
    "mp_drawing = mp.solutions.drawing_utils\n",
    "mp_drawing_styles = mp.solutions.drawing_styles\n",
    "mp_hands = mp.solutions.hands"
   ]
  },
  {
   "attachments": {},
   "cell_type": "markdown",
   "metadata": {},
   "source": [
    "general code for webcam input from media pipe"
   ]
  },
  {
   "cell_type": "code",
   "execution_count": null,
   "metadata": {},
   "outputs": [],
   "source": [
    "cap = cv2.VideoCapture(0)\n",
    "with mp_hands.Hands(\n",
    "    model_complexity=0,\n",
    "    min_detection_confidence=0.5,\n",
    "    min_tracking_confidence=0.5) as hands:\n",
    "  while cap.isOpened():\n",
    "    success, image = cap.read()\n",
    "    if not success:\n",
    "      print(\"Ignoring empty camera frame.\")\n",
    "      # If loading a video, use 'break' instead of 'continue'.\n",
    "      continue\n",
    "\n",
    "    # To improve performance, optionally mark the image as not writeable to\n",
    "    # pass by reference.\n",
    "    image.flags.writeable = False\n",
    "    image = cv2.cvtColor(image, cv2.COLOR_BGR2RGB)\n",
    "    results = hands.process(image)\n",
    "\n",
    "    # Draw the hand annotations on the image.\n",
    "    image.flags.writeable = True\n",
    "    image = cv2.cvtColor(image, cv2.COLOR_RGB2BGR)\n",
    "    if results.multi_hand_landmarks:\n",
    "      for hand_landmarks in results.multi_hand_landmarks:\n",
    "        mp_drawing.draw_landmarks(\n",
    "            image,\n",
    "            hand_landmarks,\n",
    "            mp_hands.HAND_CONNECTIONS,\n",
    "            mp_drawing_styles.get_default_hand_landmarks_style(),\n",
    "            mp_drawing_styles.get_default_hand_connections_style())\n",
    "    # Flip the image horizontally for a selfie-view display.\n",
    "    cv2.imshow('MediaPipe Hands', cv2.flip(image, 1))\n",
    "    if cv2.waitKey(5) & 0xFF == 27:\n",
    "      break\n",
    "cap.release()"
   ]
  },
  {
   "attachments": {},
   "cell_type": "markdown",
   "metadata": {},
   "source": [
    "take photo with webcam and save the landmarks "
   ]
  },
  {
   "cell_type": "code",
   "execution_count": 6,
   "metadata": {},
   "outputs": [],
   "source": [
    "import cv2\n",
    "import mediapipe as mp\n",
    "import os\n",
    "import pickle\n",
    "\n",
    "mp_hands = mp.solutions.hands\n",
    "mp_drawing = mp.solutions.drawing_utils\n",
    "\n",
    "def capture_hand_landmarks(num_photos):\n",
    "    cap = cv2.VideoCapture(0)\n",
    "    with mp_hands.Hands(\n",
    "        model_complexity=0,\n",
    "        min_detection_confidence=0.5,\n",
    "        min_tracking_confidence=0.5) as hands:\n",
    "        photo_count = 0\n",
    "        while photo_count < num_photos:\n",
    "            # Capture a frame from the camera\n",
    "            ret, frame = cap.read()\n",
    "            if not ret:\n",
    "                continue\n",
    "\n",
    "            # Display the frame\n",
    "            cv2.imshow(\"Capture Frame\", frame)\n",
    "\n",
    "            # Check if the user wants to take a photo\n",
    "            key = cv2.waitKey(1)\n",
    "            if key == ord(\" \"):\n",
    "                # Take a photo\n",
    "                image_path = f\"C:\\\\Users\\\\benja\\Documents\\\\CV\\\\CV\\\\hand_commands\\\\images\\\\images_{photo_count}.jpg\"\n",
    "                cv2.imwrite(image_path, frame)\n",
    "\n",
    "                # Get the landmarks of the hand\n",
    "                image = cv2.cvtColor(frame, cv2.COLOR_BGR2RGB)\n",
    "                results = hands.process(image)\n",
    "                if results.multi_hand_landmarks:\n",
    "                    landmarks = results.multi_hand_landmarks[0]\n",
    "                    landmarks_dict = {}\n",
    "                    for index, landmark in enumerate(landmarks.landmark):\n",
    "                        landmarks_dict[index] = (landmark.x, landmark.y, landmark.z)\n",
    "\n",
    "                    # Save the landmarks to a file\n",
    "                    landmarks_path = f\"C:\\\\Users\\\\benja\\\\Documents\\\\CV\\\\CV\\\\hand_commands\\\\landmarks\\\\landmarks_{photo_count}.pickle\"\n",
    "                    os.makedirs(os.path.dirname(landmarks_path), exist_ok=True)\n",
    "                    with open(landmarks_path, \"wb\") as f:\n",
    "                        pickle.dump(landmarks_dict, f)\n",
    "\n",
    "                print(f\"Photo {photo_count + 1} and hand landmarks saved to disk.\")\n",
    "                photo_count += 1\n",
    "\n",
    "        # Release the camera and destroy the windows\n",
    "        cap.release()\n",
    "        cv2.destroyAllWindows()\n"
   ]
  },
  {
   "cell_type": "code",
   "execution_count": 7,
   "metadata": {},
   "outputs": [
    {
     "name": "stdout",
     "output_type": "stream",
     "text": [
      "Photo 1 and hand landmarks saved to disk.\n",
      "Photo 2 and hand landmarks saved to disk.\n"
     ]
    }
   ],
   "source": [
    "capture_hand_landmarks(2)"
   ]
  },
  {
   "attachments": {},
   "cell_type": "markdown",
   "metadata": {},
   "source": [
    "method to get the most similar landmark in a given directory   "
   ]
  },
  {
   "cell_type": "code",
   "execution_count": 1,
   "metadata": {},
   "outputs": [],
   "source": [
    "def get_most_similar_landmark(directory, target_landmark):\n",
    "    # Get a list of all the landmarks files in the directory\n",
    "    landmarks_files = sorted([\n",
    "        os.path.join(directory, filename) for filename in os.listdir(directory)\n",
    "        if filename.startswith(\"landmarks_\") and filename.endswith(\".pickle\")\n",
    "    ])\n",
    "\n",
    "    # Initialize variables to keep track of the most similar landmark\n",
    "    max_similarity = -1\n",
    "    most_similar_number = None\n",
    "\n",
    "    # Iterate over each landmarks file\n",
    "    for landmarks_file in landmarks_files:\n",
    "        # Extract the number from the filename\n",
    "        number = int(os.path.basename(landmarks_file).split(\"_\")[1].split(\".\")[0])\n",
    "\n",
    "        # Load the landmarks from the file\n",
    "        with open(landmarks_file, \"rb\") as f:\n",
    "            landmarks_dict = pickle.load(f)\n",
    "\n",
    "        # Calculate the similarity between the target landmark and each landmark in the file\n",
    "        similarities = []\n",
    "        for landmark in landmarks_dict.values():\n",
    "            similarity = np.dot(landmark, target_landmark) / (np.linalg.norm(landmark) * np.linalg.norm(target_landmark))\n",
    "            similarities.append(similarity)\n",
    "\n",
    "        # Get the maximum similarity and update the most similar landmark if necessary\n",
    "        max_similarity_in_file = max(similarities)\n",
    "        if max_similarity_in_file > max_similarity:\n",
    "            max_similarity = max_similarity_in_file\n",
    "            most_similar_number = number\n",
    "\n",
    "    return most_similar_number\n"
   ]
  },
  {
   "attachments": {},
   "cell_type": "markdown",
   "metadata": {},
   "source": [
    "open webcam and pass frame to most similar method"
   ]
  },
  {
   "cell_type": "code",
   "execution_count": null,
   "metadata": {},
   "outputs": [],
   "source": []
  }
 ],
 "metadata": {
  "kernelspec": {
   "display_name": "tracker",
   "language": "python",
   "name": "python3"
  },
  "language_info": {
   "codemirror_mode": {
    "name": "ipython",
    "version": 3
   },
   "file_extension": ".py",
   "mimetype": "text/x-python",
   "name": "python",
   "nbconvert_exporter": "python",
   "pygments_lexer": "ipython3",
   "version": "3.9.13"
  },
  "orig_nbformat": 4,
  "vscode": {
   "interpreter": {
    "hash": "325c0669696544bd52e674bf0adceca64bc73871cd742f30d9c576ec8003e4ff"
   }
  }
 },
 "nbformat": 4,
 "nbformat_minor": 2
}
