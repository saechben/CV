{
 "cells": [
  {
   "cell_type": "code",
   "execution_count": 25,
   "metadata": {},
   "outputs": [],
   "source": [
    "import os\n",
    "import numpy as np\n",
    "import cv2\n",
    "import mediapipe as mp\n",
    "import pickle\n",
    "mp_drawing = mp.solutions.drawing_utils\n",
    "mp_drawing_styles = mp.solutions.drawing_styles\n",
    "mp_hands = mp.solutions.hands"
   ]
  },
  {
   "attachments": {},
   "cell_type": "markdown",
   "metadata": {},
   "source": [
    "general code for webcam input from media pipe"
   ]
  },
  {
   "cell_type": "code",
   "execution_count": null,
   "metadata": {},
   "outputs": [],
   "source": [
    "cap = cv2.VideoCapture(0)\n",
    "with mp_hands.Hands(\n",
    "    model_complexity=0,\n",
    "    min_detection_confidence=0.5,\n",
    "    min_tracking_confidence=0.5) as hands:\n",
    "  while cap.isOpened():\n",
    "    success, image = cap.read()\n",
    "    if not success:\n",
    "      print(\"Ignoring empty camera frame.\")\n",
    "      # If loading a video, use 'break' instead of 'continue'.\n",
    "      continue\n",
    "\n",
    "    # To improve performance, optionally mark the image as not writeable to\n",
    "    # pass by reference.\n",
    "    image.flags.writeable = False\n",
    "    image = cv2.cvtColor(image, cv2.COLOR_BGR2RGB)\n",
    "    results = hands.process(image)\n",
    "\n",
    "    # Draw the hand annotations on the image.\n",
    "    image.flags.writeable = True\n",
    "    image = cv2.cvtColor(image, cv2.COLOR_RGB2BGR)\n",
    "    if results.multi_hand_landmarks:\n",
    "      for hand_landmarks in results.multi_hand_landmarks:\n",
    "        mp_drawing.draw_landmarks(\n",
    "            image,\n",
    "            hand_landmarks,\n",
    "            mp_hands.HAND_CONNECTIONS,\n",
    "            mp_drawing_styles.get_default_hand_landmarks_style(),\n",
    "            mp_drawing_styles.get_default_hand_connections_style())\n",
    "    # Flip the image horizontally for a selfie-view display.\n",
    "    cv2.imshow('MediaPipe Hands', cv2.flip(image, 1))\n",
    "    if cv2.waitKey(5) & 0xFF == 27:\n",
    "      break\n",
    "cap.release()"
   ]
  },
  {
   "attachments": {},
   "cell_type": "markdown",
   "metadata": {},
   "source": [
    "take photo with webcam and save the landmarks "
   ]
  },
  {
   "cell_type": "code",
   "execution_count": 8,
   "metadata": {},
   "outputs": [],
   "source": [
    "def capture_hand_landmarks(num_photos,images_dir =\"C:\\\\Users\\\\benja\\\\Documents\\\\CV\\\\CV\\\\hand_commands\\\\images\" ,landmarks_dir=\"C:\\\\Users\\\\benja\\\\Documents\\\\CV\\\\CV\\\\hand_commands\\\\landmarks\" ):\n",
    "    cap = cv2.VideoCapture(0)\n",
    "    with mp_hands.Hands(\n",
    "        model_complexity=0,\n",
    "        min_detection_confidence=0.5,\n",
    "        min_tracking_confidence=0.5) as hands:\n",
    "        photo_count = 0\n",
    "        existing_files = len([name for name in os.listdir(images_dir) if os.path.isfile(os.path.join(images_dir, name))])\n",
    "        while photo_count < num_photos:\n",
    "            # Capture a frame from the camera\n",
    "            ret, frame = cap.read()\n",
    "            if not ret:\n",
    "                continue\n",
    "\n",
    "            # Display the frame\n",
    "            cv2.imshow(\"Capture Frame\", frame)\n",
    "\n",
    "            # Check if the user wants to take a photo\n",
    "            key = cv2.waitKey(1)\n",
    "            if key == ord(\" \"):\n",
    "                # Take a photo\n",
    "                image_path = os.path.join(images_dir, f\"image_{existing_files + photo_count}.jpg\")\n",
    "                while os.path.exists(image_path):\n",
    "                    photo_count += 1\n",
    "                    image_path = os.path.join(images_dir, f\"image_{existing_files + photo_count}.jpg\")\n",
    "                cv2.imwrite(image_path, frame)\n",
    "\n",
    "                # Get the landmarks of the hand\n",
    "                image = cv2.cvtColor(frame, cv2.COLOR_BGR2RGB)\n",
    "                results = hands.process(image)\n",
    "                if results.multi_hand_landmarks:\n",
    "                    landmarks = results.multi_hand_landmarks[0]\n",
    "                    landmarks_dict = {}\n",
    "                    for index, landmark in enumerate(landmarks.landmark):\n",
    "                        landmarks_dict[index] = (landmark.x, landmark.y, landmark.z)\n",
    "\n",
    "                    # Save the landmarks to a file\n",
    "                    landmarks_path = os.path.join(landmarks_dir, f\"landmarks_{existing_files + photo_count}.pickle\")\n",
    "                    with open(landmarks_path, \"wb\") as f:\n",
    "                        pickle.dump(landmarks_dict, f)\n",
    "\n",
    "                print(f\"Photo {photo_count + 1} and hand landmarks saved to disk.\")\n",
    "                photo_count += 1\n",
    "\n",
    "        # Release the camera and destroy the windows\n",
    "        cap.release()\n",
    "        cv2.destroyAllWindows()\n"
   ]
  },
  {
   "cell_type": "code",
   "execution_count": 9,
   "metadata": {},
   "outputs": [
    {
     "name": "stdout",
     "output_type": "stream",
     "text": [
      "Photo 1 and hand landmarks saved to disk.\n",
      "Photo 2 and hand landmarks saved to disk.\n"
     ]
    }
   ],
   "source": [
    "capture_hand_landmarks(2)"
   ]
  },
  {
   "attachments": {},
   "cell_type": "markdown",
   "metadata": {},
   "source": [
    "method to get the most similar landmark in a given directory   "
   ]
  },
  {
   "cell_type": "code",
   "execution_count": 10,
   "metadata": {},
   "outputs": [],
   "source": [
    "def get_most_similar_landmark(directory, target_landmark):\n",
    "    # Get a list of all the landmarks files in the directory\n",
    "    landmarks_files = sorted([\n",
    "        os.path.join(directory, filename) for filename in os.listdir(directory)\n",
    "        if filename.startswith(\"landmarks_\") and filename.endswith(\".pickle\")\n",
    "    ])\n",
    "\n",
    "    # Initialize variables to keep track of the most similar landmark\n",
    "    max_similarity = -1\n",
    "    most_similar_number = None\n",
    "\n",
    "    # Iterate over each landmarks file\n",
    "    for landmarks_file in landmarks_files:\n",
    "        # Extract the number from the filename\n",
    "        number = int(os.path.basename(landmarks_file).split(\"_\")[1].split(\".\")[0])\n",
    "\n",
    "        # Load the landmarks from the file\n",
    "        with open(landmarks_file, \"rb\") as f:\n",
    "            landmarks_dict = pickle.load(f)\n",
    "\n",
    "        # Calculate the similarity between the target landmark and each landmark in the file\n",
    "        similarities = []\n",
    "        for landmark in landmarks_dict.values():\n",
    "            similarity = np.dot(landmark, target_landmark) / (np.linalg.norm(landmark) * np.linalg.norm(target_landmark))\n",
    "            similarities.append(similarity)\n",
    "\n",
    "        # Get the maximum similarity and update the most similar landmark if necessary\n",
    "        max_similarity_in_file = max(similarities)\n",
    "        if max_similarity_in_file > max_similarity:\n",
    "            max_similarity = max_similarity_in_file\n",
    "            most_similar_number = number\n",
    "\n",
    "    return most_similar_number\n"
   ]
  },
  {
   "cell_type": "code",
   "execution_count": 28,
   "metadata": {},
   "outputs": [],
   "source": [
    "#still buggy --> throws index out of range in the landmark_num\n",
    "def get_most_similar_landmark(directory, target_landmark):\n",
    "    # Get all the landmark files in the directory\n",
    "    landmark_files = [os.path.join(directory, file) for file in os.listdir(directory) if file.startswith(\"landmarks\")]\n",
    "    if not landmark_files:\n",
    "        raise ValueError(\"No landmark files found in the directory.\")\n",
    "\n",
    "    # Load all the landmarks into a list\n",
    "    landmarks = []\n",
    "    for file in landmark_files:\n",
    "        with open(file, \"rb\") as f:\n",
    "            landmarks_dict = pickle.load(f)\n",
    "            landmarks.append(list(landmarks_dict.values()))\n",
    "\n",
    "    landmarks = np.array(landmarks)\n",
    "\n",
    "    # Convert the target landmark to a list\n",
    "    target_landmark_list = list(target_landmark.values())\n",
    "\n",
    "    # Compute the Euclidean distances between the target landmark and all landmarks\n",
    "    distances = np.linalg.norm(landmarks - target_landmark_list, axis=1)\n",
    "\n",
    "    # Find the index of the landmark with the smallest distance to the target landmark\n",
    "    index = np.argmin(distances)\n",
    "\n",
    "    # Extract the landmark number from the file name and return it\n",
    "    #landmark_num = int(os.path.basename(landmark_files[index])[10:].split(\".\")[0])\n",
    "    for landmark in landmark_files:\n",
    "        print(landmark)\n",
    "    #print(os.path.basename(landmark_files[index]))\n",
    "    return 3\n"
   ]
  },
  {
   "attachments": {},
   "cell_type": "markdown",
   "metadata": {},
   "source": [
    "open webcam and pass frame to most similar method"
   ]
  },
  {
   "cell_type": "code",
   "execution_count": 11,
   "metadata": {},
   "outputs": [],
   "source": [
    "def capture_hand_landmarks():\n",
    "    cap = cv2.VideoCapture(0)\n",
    "    with mp_hands.Hands(\n",
    "        model_complexity=0,\n",
    "        min_detection_confidence=0.5,\n",
    "        min_tracking_confidence=0.5) as hands:\n",
    "        while True:\n",
    "            # Capture a frame from the camera\n",
    "            ret, frame = cap.read()\n",
    "            if not ret:\n",
    "                continue\n",
    "\n",
    "            # Display the frame\n",
    "            cv2.imshow(\"Capture Frame\", frame)\n",
    "\n",
    "            # Check if the user wants to take a photo\n",
    "            key = cv2.waitKey(1)\n",
    "            if key == ord(\" \"):\n",
    "                # Get the landmarks of the hand\n",
    "                image = cv2.cvtColor(frame, cv2.COLOR_BGR2RGB)\n",
    "                results = hands.process(image)\n",
    "                if results.multi_hand_landmarks:\n",
    "                    landmarks = results.multi_hand_landmarks[0]\n",
    "                    landmarks_dict = {}\n",
    "                    for index, landmark in enumerate(landmarks.landmark):\n",
    "                        landmarks_dict[index] = (landmark.x, landmark.y, landmark.z)\n",
    "                    return landmarks_dict\n",
    "\n",
    "        # Release the camera and destroy the windows\n",
    "        cap.release()\n",
    "        cv2.destroyAllWindows()\n"
   ]
  },
  {
   "cell_type": "code",
   "execution_count": 29,
   "metadata": {},
   "outputs": [
    {
     "ename": "IndexError",
     "evalue": "list index out of range",
     "output_type": "error",
     "traceback": [
      "\u001b[1;31m---------------------------------------------------------------------------\u001b[0m",
      "\u001b[1;31mIndexError\u001b[0m                                Traceback (most recent call last)",
      "Cell \u001b[1;32mIn[29], line 1\u001b[0m\n\u001b[1;32m----> 1\u001b[0m \u001b[39mprint\u001b[39m(get_most_similar_landmark(directory\u001b[39m=\u001b[39;49m\u001b[39mr\u001b[39;49m\u001b[39m\"\u001b[39;49m\u001b[39mC:\u001b[39;49m\u001b[39m\\\u001b[39;49m\u001b[39mUsers\u001b[39;49m\u001b[39m\\\u001b[39;49m\u001b[39mbenja\u001b[39;49m\u001b[39m\\\u001b[39;49m\u001b[39mDocuments\u001b[39;49m\u001b[39m\\\u001b[39;49m\u001b[39mCV\u001b[39;49m\u001b[39m\\\u001b[39;49m\u001b[39mCV\u001b[39;49m\u001b[39m\\\u001b[39;49m\u001b[39mhand_commands\u001b[39;49m\u001b[39m\\\u001b[39;49m\u001b[39mlandmarks\u001b[39;49m\u001b[39m\"\u001b[39;49m, target_landmark\u001b[39m=\u001b[39;49mcapture_hand_landmarks()))\n",
      "Cell \u001b[1;32mIn[28], line 28\u001b[0m, in \u001b[0;36mget_most_similar_landmark\u001b[1;34m(directory, target_landmark)\u001b[0m\n\u001b[0;32m     24\u001b[0m index \u001b[39m=\u001b[39m np\u001b[39m.\u001b[39margmin(distances)\n\u001b[0;32m     26\u001b[0m \u001b[39m# Extract the landmark number from the file name and return it\u001b[39;00m\n\u001b[0;32m     27\u001b[0m \u001b[39m#landmark_num = int(os.path.basename(landmark_files[index])[10:].split(\".\")[0])\u001b[39;00m\n\u001b[1;32m---> 28\u001b[0m \u001b[39mprint\u001b[39m(os\u001b[39m.\u001b[39mpath\u001b[39m.\u001b[39mbasename(landmark_files[index]))\n\u001b[0;32m     29\u001b[0m \u001b[39mreturn\u001b[39;00m \u001b[39m3\u001b[39m\n",
      "\u001b[1;31mIndexError\u001b[0m: list index out of range"
     ]
    }
   ],
   "source": [
    "print(get_most_similar_landmark(directory=r\"C:\\Users\\benja\\Documents\\CV\\CV\\hand_commands\\landmarks\", target_landmark=capture_hand_landmarks()))"
   ]
  }
 ],
 "metadata": {
  "kernelspec": {
   "display_name": "tracker",
   "language": "python",
   "name": "python3"
  },
  "language_info": {
   "codemirror_mode": {
    "name": "ipython",
    "version": 3
   },
   "file_extension": ".py",
   "mimetype": "text/x-python",
   "name": "python",
   "nbconvert_exporter": "python",
   "pygments_lexer": "ipython3",
   "version": "3.9.13"
  },
  "orig_nbformat": 4,
  "vscode": {
   "interpreter": {
    "hash": "325c0669696544bd52e674bf0adceca64bc73871cd742f30d9c576ec8003e4ff"
   }
  }
 },
 "nbformat": 4,
 "nbformat_minor": 2
}
